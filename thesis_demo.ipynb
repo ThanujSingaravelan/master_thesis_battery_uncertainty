{
  "nbformat": 4,
  "nbformat_minor": 0,
  "metadata": {
    "colab": {
      "provenance": [],
      "authorship_tag": "ABX9TyOcA63r3BAWspMTwOazarz6",
      "include_colab_link": true
    },
    "kernelspec": {
      "name": "python3",
      "display_name": "Python 3"
    },
    "language_info": {
      "name": "python"
    }
  },
  "cells": [
    {
      "cell_type": "markdown",
      "metadata": {
        "id": "view-in-github",
        "colab_type": "text"
      },
      "source": [
        "<a href=\"https://colab.research.google.com/github/ThanujSingaravelan/master_thesis_battery_uncertainty/blob/main/thesis_demo.ipynb\" target=\"_parent\"><img src=\"https://colab.research.google.com/assets/colab-badge.svg\" alt=\"Open In Colab\"/></a>"
      ]
    },
    {
      "cell_type": "code",
      "execution_count": null,
      "metadata": {
        "id": "kJo8TQdGFzNK"
      },
      "outputs": [],
      "source": [
        "!git clone https://github.com/ThanujSingaravelan/master_thesis_battery_uncertainty.git\n",
        "%cd master_thesis_battery_uncertainty "
      ]
    },
    {
      "cell_type": "code",
      "source": [
        "import pandas as pd\n",
        "import uncertainty_modelling_core\n"
      ],
      "metadata": {
        "id": "RmLb0UShGbIP"
      },
      "execution_count": 13,
      "outputs": []
    },
    {
      "cell_type": "code",
      "source": [
        "df_BNN = pd.read_csv('demo_data_BNN_model.csv', index_col=False)\n",
        "\n",
        "uncertain_data = uncertainty_modelling_core.UncertaintyData()\n",
        "\n",
        "# df_BNN.loc[6500:7000,'voltage'] = 350.0\n",
        "\n",
        "\n",
        "\n",
        "\n",
        "\n",
        "\n",
        "\n",
        "\n",
        "df_train = df_BNN[0:7000]\n",
        "df_test = df_BNN[0:7000]\n",
        "\n",
        "\n",
        "\n",
        "\n",
        "uncertain_data.add_data(df_demo_regr)\n",
        "\n",
        "uncertain_data.compute_tensors_windowed(stride=1, window_size=10, clustering_mode=False)\n",
        "training_data_regr = uncertain_data.get_tensor_data()\n",
        "\n",
        "model_name = \"DualChannelMultiHead\"\n",
        "two_stages = True\n",
        "\n",
        "epochs_1 = 100\n",
        "epochs_2 = 100"
      ],
      "metadata": {
        "id": "fBnnYM-fIkd1"
      },
      "execution_count": null,
      "outputs": []
    },
    {
      "cell_type": "code",
      "source": [
        "Class = getattr(uncertainty_modelling_core, model_name)\n",
        "model = Class()\n",
        "\n",
        "model.add_tensor_data(training_data_regr)\n",
        "\n",
        "m = model.create_core()\n",
        "\n",
        "model.training_parameters['epochs'] = epochs_1\n",
        "model.fit_model(model_name=model_name)\n",
        "\n",
        "if two_stage:\n",
        "  model.training_parameters['epochs'] = epochs_2\n",
        "  m = model.update_model(probabilstic_mode=True)\n",
        "  model.fit_model(model_name=model_name)\n",
        "\n",
        "        "
      ],
      "metadata": {
        "id": "J5RBHN1gKCdO"
      },
      "execution_count": null,
      "outputs": []
    },
    {
      "cell_type": "code",
      "source": [
        "predicted_data = model.predict_on_data(df_test, model_name=model_name)\n",
        "fig = model.plot_summary()"
      ],
      "metadata": {
        "id": "J57VGipaKRDL"
      },
      "execution_count": null,
      "outputs": []
    }
  ]
}