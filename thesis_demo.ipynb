{
  "nbformat": 4,
  "nbformat_minor": 0,
  "metadata": {
    "colab": {
      "provenance": [],
      "authorship_tag": "ABX9TyOpVjI89oRDYPwYANY9yFto",
      "include_colab_link": true
    },
    "kernelspec": {
      "name": "python3",
      "display_name": "Python 3"
    },
    "language_info": {
      "name": "python"
    }
  },
  "cells": [
    {
      "cell_type": "markdown",
      "metadata": {
        "id": "view-in-github",
        "colab_type": "text"
      },
      "source": [
        "<a href=\"https://colab.research.google.com/github/ThanujSingaravelan/master_thesis_battery_uncertainty/blob/main/thesis_demo.ipynb\" target=\"_parent\"><img src=\"https://colab.research.google.com/assets/colab-badge.svg\" alt=\"Open In Colab\"/></a>"
      ]
    },
    {
      "cell_type": "code",
      "execution_count": 11,
      "metadata": {
        "id": "kJo8TQdGFzNK",
        "outputId": "7c1e557f-76ff-4085-8ca6-8f57120a942e",
        "colab": {
          "base_uri": "https://localhost:8080/"
        }
      },
      "outputs": [
        {
          "output_type": "stream",
          "name": "stdout",
          "text": [
            "Cloning into 'master_thesis_battery_uncertainty'...\n",
            "remote: Enumerating objects: 13, done.\u001b[K\n",
            "remote: Counting objects:   7% (1/13)\u001b[K\rremote: Counting objects:  15% (2/13)\u001b[K\rremote: Counting objects:  23% (3/13)\u001b[K\rremote: Counting objects:  30% (4/13)\u001b[K\rremote: Counting objects:  38% (5/13)\u001b[K\rremote: Counting objects:  46% (6/13)\u001b[K\rremote: Counting objects:  53% (7/13)\u001b[K\rremote: Counting objects:  61% (8/13)\u001b[K\rremote: Counting objects:  69% (9/13)\u001b[K\rremote: Counting objects:  76% (10/13)\u001b[K\rremote: Counting objects:  84% (11/13)\u001b[K\rremote: Counting objects:  92% (12/13)\u001b[K\rremote: Counting objects: 100% (13/13)\u001b[K\rremote: Counting objects: 100% (13/13), done.\u001b[K\n",
            "remote: Compressing objects: 100% (13/13), done.\u001b[K\n",
            "remote: Total 13 (delta 3), reused 0 (delta 0), pack-reused 0\u001b[K\n",
            "Unpacking objects: 100% (13/13), done.\n",
            "/content/master_thesis_battery_uncertainty/master_thesis_battery_uncertainty\n"
          ]
        }
      ],
      "source": [
        "!git clone https://github.com/ThanujSingaravelan/master_thesis_battery_uncertainty.git\n",
        "%cd master_thesis_battery_uncertainty "
      ]
    },
    {
      "cell_type": "code",
      "source": [
        "import pandas as pd\n",
        "import uncertainty_modelling_core\n"
      ],
      "metadata": {
        "id": "RmLb0UShGbIP"
      },
      "execution_count": 13,
      "outputs": []
    },
    {
      "cell_type": "code",
      "source": [
        "df_BNN = pd.read_csv('demo_data_BNN_model.csv', index_col=False)\n",
        "\n",
        "uncertain_data = uncertainty_modelling_core.UncertaintyData()\n",
        "\n",
        "# df_BNN.loc[6500:7000,'voltage'] = 350.0\n",
        "\n",
        "df_demo_regr = df_BNN[0:7000]\n",
        "uncertain_data.add_data(df_demo_regr)\n",
        "\n",
        "uncertain_data.compute_tensors_windowed(stride=1, window_size=10, clustering_mode=False)\n",
        "training_data_regr = uncertain_data.get_tensor_data()"
      ],
      "metadata": {
        "id": "fBnnYM-fIkd1"
      },
      "execution_count": null,
      "outputs": []
    }
  ]
}